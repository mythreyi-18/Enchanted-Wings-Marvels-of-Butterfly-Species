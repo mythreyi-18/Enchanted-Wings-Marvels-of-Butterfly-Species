{
  "metadata": {
    "kernelspec": {
      "name": "python",
      "display_name": "Python (Pyodide)",
      "language": "python"
    },
    "language_info": {
      "codemirror_mode": {
        "name": "python",
        "version": 3
      },
      "file_extension": ".py",
      "mimetype": "text/x-python",
      "name": "python",
      "nbconvert_exporter": "python",
      "pygments_lexer": "ipython3",
      "version": "3.8"
    }
  },
  "nbformat_minor": 5,
  "nbformat": 4,
  "cells": [
    {
      "id": "cefbae49-8c10-4ba8-98d0-529ee755f259",
      "cell_type": "code",
      "source": "import os\nimport random\nimport tensorflow as tf\nfrom tensorflow.keras.preprocessing.image import ImageDataGenerator  # type: ignore\nfrom tensorflow.keras import layers, models  # type: ignore\nimport matplotlib.pyplot as plt\nfrom IPython.display import Image, display\n\nprint(\"TensorFlow version:\", tf.__version__)\n\ntrain_dir = \"butterfly_classifier_app/train\"\nval_dir = \"butterfly_classifier_app/valid\"\ntest_dir = \"butterfly_classifier_app/test\"\n\nimg_size = (224, 224)\nbatch_size = 32\n\ndef visualize_random_image(folder_path):\n    image_files = [f for f in os.listdir(folder_path) if f.endswith(('.jpg', '.png', '.jpeg'))]\n    selected_image = random.choice(image_files)\n    image_path = os.path.join(folder_path, selected_image)\n    print(f\"Showing image: {selected_image}\")\n    display(Image(filename=image_path))\n\nprint(\"\\nRandom Train Image:\")\nvisualize_random_image(os.path.join(train_dir, random.choice(os.listdir(train_dir))))\n\nprint(\"\\nRandom Validation Image:\")\nvisualize_random_image(os.path.join(val_dir, random.choice(os.listdir(val_dir))))\n\nprint(\"\\nRandom Test Image:\")\nvisualize_random_image(os.path.join(test_dir, random.choice(os.listdir(test_dir))))\n\ndatagen = ImageDataGenerator(rescale=1./255)\n\ntrain_data = datagen.flow_from_directory(\n    train_dir, target_size=img_size, batch_size=batch_size, class_mode='categorical'\n)\nval_data = datagen.flow_from_directory(\n    val_dir, target_size=img_size, batch_size=batch_size, class_mode='categorical'\n)\ntest_data = datagen.flow_from_directory(\n    test_dir, target_size=img_size, batch_size=batch_size, class_mode='categorical'\n)\n\nbase_model = tf.keras.applications.MobileNetV2(\n    input_shape=(224, 224, 3), include_top=False, weights='imagenet'\n)\nbase_model.trainable = False\n\nmodel = models.Sequential([\n    base_model,\n    layers.GlobalAveragePooling2D(),\n    layers.Dense(128, activation='relu'),\n    layers.Dropout(0.3),\n    layers.Dense(train_data.num_classes, activation='softmax')\n])\n\nmodel.compile(optimizer='adam', loss='categorical_crossentropy', metrics=['accuracy'])\nmodel.summary()\n\nhistory = model.fit(train_data, validation_data=val_data, epochs=10)\n\ntest_loss, test_acc = model.evaluate(test_data)\nprint(f\"\\nTest Accuracy: {test_acc:.2f}\")\n\nplt.plot(history.history['accuracy'], label='Train Accuracy')\nplt.plot(history.history['val_accuracy'], label='Val Accuracy')\nplt.xlabel('Epoch')\nplt.ylabel('Accuracy')\nplt.title('Training and Validation Accuracy')\nplt.legend()\nplt.grid()\nplt.show()\n\nmodel.save(\"butterfly_mobilenetv2_model.h5\")\n\nfrom tensorflow.keras.preprocessing import image  # type: ignore\nimport numpy as np\n\nmodel = tf.keras.models.load_model(\"butterfly_mobilenetv2_model.h5\")\n\nclass_indices = train_data.class_indices\nlabels = dict((v, k) for k, v in class_indices.items())\n\ndef predict_image(img_path):\n    img = image.load_img(img_path, target_size=img_size)\n    img_array = image.img_to_array(img) / 255.0  # Normalize\n    img_array = np.expand_dims(img_array, axis=0)\n    predictions = model.predict(img_array)\n    predicted_index = np.argmax(predictions, axis=1)[0]\n    predicted_class = labels[predicted_index]\n    print(f\"Predicted Class Index: {predicted_index}\")\n    print(f\"Predicted Class Name: {predicted_class}\")\n\nsample_path = os.path.join(\n    test_dir,\n    random.choice(os.listdir(test_dir)),\n    random.choice(os.listdir(os.path.join(test_dir, random.choice(os.listdir(test_dir)))))\n)\n\nprint(\"\\nTesting on new image:\")\npredict_image(sample_path)",
      "metadata": {
        "trusted": true
      },
      "outputs": [],
      "execution_count": null
    }
  ]
}